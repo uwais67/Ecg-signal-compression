{
 "cells": [
  {
   "cell_type": "code",
   "execution_count": 33,
   "id": "d4345576",
   "metadata": {},
   "outputs": [],
   "source": [
    "import numpy as np\n",
    "import tensorflow as tf\n",
    "from tensorflow import keras\n",
    "from tensorflow.keras import layers\n",
    "import matplotlib.pyplot as plt\n",
    "import pandas as pd\n",
    "from tensorflow.keras.layers import Input, Conv1D, MaxPooling1D,BatchNormalization,UpSampling1D,Conv1DTranspose,Dense,Flatten,Reshape,Attention, Add, Multiply, Activation,LeakyReLU\n",
    "from tensorflow.keras.models import Sequential,Model\n",
    "from mat4py import loadmat\n",
    "from keras.layers import LSTM\n",
    "from tensorflow.keras.optimizers import Adam,SGD\n",
    "import scipy.io\n",
    "from biosppy.signals import ecg\n",
    "from scipy import signal\n",
    "from math import log10, sqrt\n",
    "from keras.layers import LSTM\n",
    "from keras import backend as K\n",
    "from keras.layers import RepeatVector\n",
    "from keras.layers import TimeDistributed\n",
    "from keras.layers import LSTM, Input, Dropout\n",
    "from sklearn.linear_model import LinearRegression\n",
    "from sklearn import datasets\n",
    "from ecgdetectors import Detectors\n",
    "from scipy.signal import find_peaks\n",
    "from scipy.signal import butter, filtfilt\n",
    "from sklearn.preprocessing import StandardScaler\n",
    "from sklearn.pipeline import make_pipeline\n",
    "from sklearn.model_selection import train_test_split\n",
    "import random"
   ]
  },
  {
   "cell_type": "code",
   "execution_count": 34,
   "id": "9614c6ec",
   "metadata": {},
   "outputs": [],
   "source": [
    "def normalize_ecg(ecg_signal):\n",
    "    \"\"\"\n",
    "    Normalize the ECG signal using min-max normalization\n",
    "    \"\"\"\n",
    "    # Find the minimum and maximum values of the signal\n",
    "    min_val = np.min(ecg_signal)\n",
    "    max_val = np.max(ecg_signal)\n",
    "\n",
    "    # Normalize the signal using min-max normalization\n",
    "    normalized_ecg = (ecg_signal - min_val) / (max_val - min_val)\n",
    "\n",
    "    return normalized_ecg"
   ]
  },
  {
   "cell_type": "code",
   "execution_count": 35,
   "id": "68304673",
   "metadata": {},
   "outputs": [],
   "source": [
    "mat = scipy.io.loadmat('115m.mat')"
   ]
  },
  {
   "cell_type": "code",
   "execution_count": 36,
   "id": "f8a0ef0d",
   "metadata": {},
   "outputs": [
    {
     "data": {
      "text/plain": [
       "(650000,)"
      ]
     },
     "execution_count": 36,
     "metadata": {},
     "output_type": "execute_result"
    }
   ],
   "source": [
    "aa=mat['val']\n",
    "a=aa[0,0:]\n",
    "a=normalize_ecg(a)\n",
    "a.shape"
   ]
  },
  {
   "cell_type": "code",
   "execution_count": 37,
   "id": "bbc1e33d",
   "metadata": {},
   "outputs": [],
   "source": [
    "# Original sampling rate and desired new sampling rate\n",
    "original_sampling_rate =360    # Replace with your actual sampling rate\n",
    "new_sampling_rate = 250  # Desired new sampling rate\n",
    "\n",
    "# Calculate the new length of the resampled signal\n",
    "original_length = len(a)\n",
    "new_length = int(original_length * (new_sampling_rate / original_sampling_rate))\n",
    "\n",
    "# Resample the signal\n",
    "r_ecg = signal.resample(a, new_length)"
   ]
  },
  {
   "cell_type": "code",
   "execution_count": 38,
   "id": "5f207326",
   "metadata": {},
   "outputs": [],
   "source": [
    "out = ecg.christov_segmenter(signal=r_ecg, sampling_rate=250)\n",
    "rpeaks = out['rpeaks']"
   ]
  },
  {
   "cell_type": "code",
   "execution_count": 39,
   "id": "412f779f",
   "metadata": {},
   "outputs": [],
   "source": [
    "segment_length = 600  # Fixed segment length of 600 data points\n",
    "window_size_seconds = 2.4  # Time window of 2.4 seconds\n",
    "segments = []\n",
    "\n",
    "\n",
    "for i in range(0, len(rpeaks) - 3, 2):  # Step by 2 to get two R-peaks per segment\n",
    "    rpeak1 = rpeaks[i]\n",
    "    rpeak2 = rpeaks[i + 1]\n",
    "    \n",
    "    # Calculate the midpoint between the two R-peaks\n",
    "    midpoint = (rpeak1 + rpeak2) // 2\n",
    "    \n",
    "    # Calculate the segment start and end indices for the specified window size\n",
    "    window_size_samples = int(250 * window_size_seconds)\n",
    "    segment_start = max(0, midpoint - window_size_samples // 2)\n",
    "    segment_end = segment_start + segment_length\n",
    "    \n",
    "    # Check if segment_end goes beyond the signal length\n",
    "    if segment_end > len(r_ecg):\n",
    "        # Perform zero-padding if necessary\n",
    "        segment = np.pad(r_ecg[segment_start:], (0, segment_end - len(r_ecg)))\n",
    "    else:\n",
    "        segment = r_ecg[segment_start:segment_end]\n",
    "    \n",
    "    segments.append(segment)"
   ]
  },
  {
   "cell_type": "code",
   "execution_count": 40,
   "id": "808ae298",
   "metadata": {},
   "outputs": [
    {
     "data": {
      "text/plain": [
       "(785, 600)"
      ]
     },
     "execution_count": 40,
     "metadata": {},
     "output_type": "execute_result"
    }
   ],
   "source": [
    "data=np.array(segments)\n",
    "# data1=data.reshape((200,300))\n",
    "data.shape"
   ]
  },
  {
   "cell_type": "code",
   "execution_count": 41,
   "id": "9b76b659",
   "metadata": {},
   "outputs": [],
   "source": [
    "Y_train, Y_test = train_test_split(data, test_size=0.2)\n",
    "Y_test.shape\n",
    "y=len(Y_test)"
   ]
  },
  {
   "cell_type": "code",
   "execution_count": 42,
   "id": "517fa16a",
   "metadata": {},
   "outputs": [],
   "source": [
    "class Sampling(layers.Layer):\n",
    "    \"\"\"Uses (z_mean, z_log_var) to sample z, the vector encoding a digit.\"\"\"\n",
    "\n",
    "    def call(self, inputs):\n",
    "        z_mean, z_log_var = inputs\n",
    "        batch = tf.shape(z_mean)[0]\n",
    "        dim = tf.shape(z_mean)[1]\n",
    "        epsilon = tf.keras.backend.random_normal(shape=(batch, dim))\n",
    "        return z_mean + tf.exp(0.5 * z_log_var) * epsilon"
   ]
  },
  {
   "cell_type": "code",
   "execution_count": 43,
   "id": "06fc17d0",
   "metadata": {},
   "outputs": [
    {
     "name": "stdout",
     "output_type": "stream",
     "text": [
      "Model: \"encoder\"\n",
      "__________________________________________________________________________________________________\n",
      " Layer (type)                   Output Shape         Param #     Connected to                     \n",
      "==================================================================================================\n",
      " input_5 (InputLayer)           [(None, 600, 1)]     0           []                               \n",
      "                                                                                                  \n",
      " conv1d_14 (Conv1D)             (None, 600, 16)      224         ['input_5[0][0]']                \n",
      "                                                                                                  \n",
      " leaky_re_lu_16 (LeakyReLU)     (None, 600, 16)      0           ['conv1d_14[0][0]']              \n",
      "                                                                                                  \n",
      " max_pooling1d_6 (MaxPooling1D)  (None, 300, 16)     0           ['leaky_re_lu_16[0][0]']         \n",
      "                                                                                                  \n",
      " conv1d_15 (Conv1D)             (None, 300, 32)      3616        ['max_pooling1d_6[0][0]']        \n",
      "                                                                                                  \n",
      " leaky_re_lu_17 (LeakyReLU)     (None, 300, 32)      0           ['conv1d_15[0][0]']              \n",
      "                                                                                                  \n",
      " max_pooling1d_7 (MaxPooling1D)  (None, 150, 32)     0           ['leaky_re_lu_17[0][0]']         \n",
      "                                                                                                  \n",
      " conv1d_16 (Conv1D)             (None, 150, 64)      14400       ['max_pooling1d_7[0][0]']        \n",
      "                                                                                                  \n",
      " leaky_re_lu_18 (LeakyReLU)     (None, 150, 64)      0           ['conv1d_16[0][0]']              \n",
      "                                                                                                  \n",
      " max_pooling1d_8 (MaxPooling1D)  (None, 75, 64)      0           ['leaky_re_lu_18[0][0]']         \n",
      "                                                                                                  \n",
      " conv1d_17 (Conv1D)             (None, 75, 128)      57472       ['max_pooling1d_8[0][0]']        \n",
      "                                                                                                  \n",
      " leaky_re_lu_19 (LeakyReLU)     (None, 75, 128)      0           ['conv1d_17[0][0]']              \n",
      "                                                                                                  \n",
      " flatten_4 (Flatten)            (None, 9600)         0           ['leaky_re_lu_19[0][0]']         \n",
      "                                                                                                  \n",
      " z_mean (Dense)                 (None, 1)            9601        ['flatten_4[0][0]']              \n",
      "                                                                                                  \n",
      " z_log_var (Dense)              (None, 1)            9601        ['flatten_4[0][0]']              \n",
      "                                                                                                  \n",
      " sampling_2 (Sampling)          (None, 1)            0           ['z_mean[0][0]',                 \n",
      "                                                                  'z_log_var[0][0]']              \n",
      "                                                                                                  \n",
      "==================================================================================================\n",
      "Total params: 94,914\n",
      "Trainable params: 94,914\n",
      "Non-trainable params: 0\n",
      "__________________________________________________________________________________________________\n"
     ]
    }
   ],
   "source": [
    "latent_dim = 1\n",
    "encoder_inputs = keras.Input(shape=(600, 1))\n",
    "x=Conv1D(16,13,padding='same')(encoder_inputs)\n",
    "x=LeakyReLU(alpha=0.2)(x)\n",
    "x=MaxPooling1D(2)(x)\n",
    "\n",
    "x=Conv1D(32,7,padding='same')(x)\n",
    "x=LeakyReLU(alpha=0.2)(x)\n",
    "x=MaxPooling1D(2)(x)\n",
    "\n",
    "x=Conv1D(64,7,padding='same')(x)\n",
    "x=LeakyReLU(alpha=0.2)(x)\n",
    "x=MaxPooling1D(2)(x)\n",
    "\n",
    "x=Conv1D(128,7,padding='same')(x)\n",
    "x=LeakyReLU(alpha=0.2)(x)\n",
    "\n",
    "conv_shape=K.int_shape(x)\n",
    "x=Flatten()(x)\n",
    "z_mean = layers.Dense(latent_dim, name=\"z_mean\")(x)\n",
    "z_log_var = layers.Dense(latent_dim, name=\"z_log_var\")(x)\n",
    "z = Sampling()([z_mean, z_log_var])\n",
    "encoder = keras.Model(encoder_inputs, [z_mean, z_log_var, z], name=\"encoder\")\n",
    "encoder.summary()"
   ]
  },
  {
   "cell_type": "code",
   "execution_count": 44,
   "id": "5605038d",
   "metadata": {},
   "outputs": [
    {
     "name": "stdout",
     "output_type": "stream",
     "text": [
      "Model: \"decoder\"\n",
      "__________________________________________________________________________________________________\n",
      " Layer (type)                   Output Shape         Param #     Connected to                     \n",
      "==================================================================================================\n",
      " input_6 (InputLayer)           [(None, 1)]          0           []                               \n",
      "                                                                                                  \n",
      " dense_4 (Dense)                (None, 9600)         19200       ['input_6[0][0]']                \n",
      "                                                                                                  \n",
      " reshape_2 (Reshape)            (None, 75, 128)      0           ['dense_4[0][0]']                \n",
      "                                                                                                  \n",
      " conv1d_transpose_8 (Conv1DTran  (None, 75, 128)     114816      ['reshape_2[0][0]']              \n",
      " spose)                                                                                           \n",
      "                                                                                                  \n",
      " leaky_re_lu_20 (LeakyReLU)     (None, 75, 128)      0           ['conv1d_transpose_8[0][0]']     \n",
      "                                                                                                  \n",
      " conv1d_18 (Conv1D)             (None, 75, 128)      49280       ['leaky_re_lu_20[0][0]']         \n",
      "                                                                                                  \n",
      " activation_6 (Activation)      (None, 75, 128)      0           ['conv1d_18[0][0]']              \n",
      "                                                                                                  \n",
      " multiply_6 (Multiply)          (None, 75, 128)      0           ['leaky_re_lu_20[0][0]',         \n",
      "                                                                  'activation_6[0][0]']           \n",
      "                                                                                                  \n",
      " add_6 (Add)                    (None, 75, 128)      0           ['leaky_re_lu_20[0][0]',         \n",
      "                                                                  'multiply_6[0][0]']             \n",
      "                                                                                                  \n",
      " conv1d_transpose_9 (Conv1DTran  (None, 75, 64)      57408       ['add_6[0][0]']                  \n",
      " spose)                                                                                           \n",
      "                                                                                                  \n",
      " leaky_re_lu_21 (LeakyReLU)     (None, 75, 64)       0           ['conv1d_transpose_9[0][0]']     \n",
      "                                                                                                  \n",
      " up_sampling1d_6 (UpSampling1D)  (None, 150, 64)     0           ['leaky_re_lu_21[0][0]']         \n",
      "                                                                                                  \n",
      " conv1d_19 (Conv1D)             (None, 150, 64)      12352       ['up_sampling1d_6[0][0]']        \n",
      "                                                                                                  \n",
      " activation_7 (Activation)      (None, 150, 64)      0           ['conv1d_19[0][0]']              \n",
      "                                                                                                  \n",
      " multiply_7 (Multiply)          (None, 150, 64)      0           ['up_sampling1d_6[0][0]',        \n",
      "                                                                  'activation_7[0][0]']           \n",
      "                                                                                                  \n",
      " add_7 (Add)                    (None, 150, 64)      0           ['up_sampling1d_6[0][0]',        \n",
      "                                                                  'multiply_7[0][0]']             \n",
      "                                                                                                  \n",
      " conv1d_transpose_10 (Conv1DTra  (None, 150, 32)     14368       ['add_7[0][0]']                  \n",
      " nspose)                                                                                          \n",
      "                                                                                                  \n",
      " leaky_re_lu_22 (LeakyReLU)     (None, 150, 32)      0           ['conv1d_transpose_10[0][0]']    \n",
      "                                                                                                  \n",
      " up_sampling1d_7 (UpSampling1D)  (None, 300, 32)     0           ['leaky_re_lu_22[0][0]']         \n",
      "                                                                                                  \n",
      " conv1d_20 (Conv1D)             (None, 300, 32)      3104        ['up_sampling1d_7[0][0]']        \n",
      "                                                                                                  \n",
      " activation_8 (Activation)      (None, 300, 32)      0           ['conv1d_20[0][0]']              \n",
      "                                                                                                  \n",
      " multiply_8 (Multiply)          (None, 300, 32)      0           ['up_sampling1d_7[0][0]',        \n",
      "                                                                  'activation_8[0][0]']           \n",
      "                                                                                                  \n",
      " add_8 (Add)                    (None, 300, 32)      0           ['up_sampling1d_7[0][0]',        \n",
      "                                                                  'multiply_8[0][0]']             \n",
      "                                                                                                  \n",
      " conv1d_transpose_11 (Conv1DTra  (None, 300, 16)     6672        ['add_8[0][0]']                  \n",
      " nspose)                                                                                          \n",
      "                                                                                                  \n",
      " leaky_re_lu_23 (LeakyReLU)     (None, 300, 16)      0           ['conv1d_transpose_11[0][0]']    \n",
      "                                                                                                  \n",
      " up_sampling1d_8 (UpSampling1D)  (None, 600, 16)     0           ['leaky_re_lu_23[0][0]']         \n",
      "                                                                                                  \n",
      " flatten_5 (Flatten)            (None, 9600)         0           ['up_sampling1d_8[0][0]']        \n",
      "                                                                                                  \n",
      " dense_5 (Dense)                (None, 600)          5760600     ['flatten_5[0][0]']              \n",
      "                                                                                                  \n",
      "==================================================================================================\n",
      "Total params: 6,037,800\n",
      "Trainable params: 6,037,800\n",
      "Non-trainable params: 0\n",
      "__________________________________________________________________________________________________\n"
     ]
    }
   ],
   "source": [
    "latent_inputs = keras.Input(shape=(latent_dim,))\n",
    "x=Dense(conv_shape[1]*conv_shape[2],activation='relu')(latent_inputs)\n",
    "x=Reshape((conv_shape[1],conv_shape[2]))(x)\n",
    "# decoder_inputs=encoder(inputs)[2]\n",
    "x=Conv1DTranspose(128,7,padding='same')(x)\n",
    "x=LeakyReLU(alpha=0.2)(x)\n",
    "\n",
    "attention_weights = Conv1D(128, kernel_size=3, padding='same')(x)\n",
    "attention_weights = tf.keras.layers.Activation('sigmoid')(attention_weights)\n",
    "attended_features = Multiply()([x, attention_weights])\n",
    "output = Add()([x, attended_features])\n",
    "\n",
    "x=Conv1DTranspose(64,7,padding='same')(output)\n",
    "x=LeakyReLU(alpha=0.2)(x)\n",
    "x=UpSampling1D(2)(x)\n",
    "\n",
    "attention_weights = Conv1D(64, kernel_size=3, padding='same')(x)\n",
    "attention_weights = tf.keras.layers.Activation('sigmoid')(attention_weights)\n",
    "attended_features = Multiply()([x, attention_weights])\n",
    "output = Add()([x, attended_features])\n",
    "\n",
    "x=Conv1DTranspose(32,7,padding='same')(output)\n",
    "x=LeakyReLU(alpha=0.2)(x)\n",
    "x=UpSampling1D(2)(x)\n",
    "\n",
    "attention_weights = Conv1D(32, kernel_size=3, padding='same')(x)\n",
    "attention_weights = tf.keras.layers.Activation('sigmoid')(attention_weights)\n",
    "attended_features = Multiply()([x, attention_weights])\n",
    "output = Add()([x, attended_features])\n",
    "\n",
    "x=Conv1DTranspose(16,13,padding='same')(output)\n",
    "x=LeakyReLU(alpha=0.2)(x)\n",
    "x=UpSampling1D(2)(x)\n",
    "x=Flatten()(x)\n",
    "decoder_outputs=Dense(600,activation='linear')(x)\n",
    "\n",
    "# decoder_outputs=Reshape((2000,1))(decoder_outputs)\n",
    "decoder = keras.Model(latent_inputs, decoder_outputs, name=\"decoder\")\n",
    "decoder.summary()"
   ]
  },
  {
   "cell_type": "code",
   "execution_count": 45,
   "id": "6a2db38e",
   "metadata": {},
   "outputs": [],
   "source": [
    "class VAE(keras.Model):\n",
    "    def __init__(self, encoder, decoder, **kwargs):\n",
    "        super().__init__(**kwargs)\n",
    "        self.encoder = encoder\n",
    "        self.decoder = decoder\n",
    "        self.total_loss_tracker = keras.metrics.Mean(name=\"total_loss\")\n",
    "        self.reconstruction_loss_tracker = keras.metrics.Mean(\n",
    "            name=\"reconstruction_loss\"\n",
    "        )\n",
    "        self.kl_loss_tracker = keras.metrics.Mean(name=\"kl_loss\")\n",
    "\n",
    "    @property\n",
    "    def metrics(self):\n",
    "        return [\n",
    "            self.total_loss_tracker,\n",
    "            self.reconstruction_loss_tracker,\n",
    "            self.kl_loss_tracker,\n",
    "        ]\n",
    "\n",
    "    def train_step(self, data):\n",
    "        with tf.GradientTape() as tape:\n",
    "            z_mean, z_log_var, z = self.encoder(data)\n",
    "            reconstruction = self.decoder(z)\n",
    "            reconstruction_loss = tf.reduce_mean(\n",
    "                tf.reduce_sum(\n",
    "                    tf.reduce_sum(keras.losses.mean_squared_error(data, reconstruction), axis=-1)\n",
    "                )\n",
    "            )\n",
    "            kl_loss = -0.5 * (1 + z_log_var - tf.square(z_mean) - tf.exp(z_log_var))\n",
    "            kl_loss = tf.reduce_mean(tf.reduce_sum(kl_loss, axis=1))\n",
    "            total_loss = reconstruction_loss + kl_loss\n",
    "        grads = tape.gradient(total_loss, self.trainable_weights)\n",
    "        self.optimizer.apply_gradients(zip(grads, self.trainable_weights))\n",
    "        self.total_loss_tracker.update_state(total_loss)\n",
    "        self.reconstruction_loss_tracker.update_state(reconstruction_loss)\n",
    "        self.kl_loss_tracker.update_state(kl_loss)\n",
    "        return {\n",
    "            \"loss\": self.total_loss_tracker.result(),\n",
    "            \"reconstruction_loss\": self.reconstruction_loss_tracker.result(),\n",
    "            \"kl_loss\": self.kl_loss_tracker.result(),\n",
    "        }"
   ]
  },
  {
   "cell_type": "code",
   "execution_count": 46,
   "id": "a3b267cd",
   "metadata": {},
   "outputs": [
    {
     "name": "stdout",
     "output_type": "stream",
     "text": [
      "Epoch 1/50\n",
      "20/20 [==============================] - 22s 379ms/step - loss: 4.8969 - reconstruction_loss: 2.6961 - kl_loss: 0.0231\n",
      "Epoch 2/50\n",
      "20/20 [==============================] - 8s 377ms/step - loss: 0.2000 - reconstruction_loss: 0.1181 - kl_loss: 0.0021\n",
      "Epoch 3/50\n",
      "20/20 [==============================] - 7s 373ms/step - loss: 0.0279 - reconstruction_loss: 0.0278 - kl_loss: 6.8340e-04\n",
      "Epoch 4/50\n",
      "20/20 [==============================] - 7s 358ms/step - loss: 0.0179 - reconstruction_loss: 0.0230 - kl_loss: 2.7158e-05\n",
      "Epoch 5/50\n",
      "20/20 [==============================] - 7s 368ms/step - loss: 0.0229 - reconstruction_loss: 0.0230 - kl_loss: 5.6285e-06\n",
      "Epoch 6/50\n",
      "20/20 [==============================] - 7s 369ms/step - loss: 0.0206 - reconstruction_loss: 0.0231 - kl_loss: 2.6183e-06\n",
      "Epoch 7/50\n",
      "20/20 [==============================] - 7s 362ms/step - loss: 0.0147 - reconstruction_loss: 0.0229 - kl_loss: 1.1026e-06\n",
      "Epoch 8/50\n",
      "20/20 [==============================] - 8s 378ms/step - loss: 0.0190 - reconstruction_loss: 0.0238 - kl_loss: 1.4475e-06\n",
      "Epoch 9/50\n",
      "20/20 [==============================] - 7s 374ms/step - loss: 0.0221 - reconstruction_loss: 0.0231 - kl_loss: 8.8131e-07\n",
      "Epoch 10/50\n",
      "20/20 [==============================] - 8s 376ms/step - loss: 0.0166 - reconstruction_loss: 0.0232 - kl_loss: 1.7514e-06\n",
      "Epoch 11/50\n",
      "20/20 [==============================] - 7s 364ms/step - loss: 0.0180 - reconstruction_loss: 0.0224 - kl_loss: 1.1328e-06\n",
      "Epoch 12/50\n",
      "20/20 [==============================] - 8s 378ms/step - loss: 0.0157 - reconstruction_loss: 0.0240 - kl_loss: 2.4419e-06\n",
      "Epoch 13/50\n",
      "20/20 [==============================] - 7s 365ms/step - loss: 0.0215 - reconstruction_loss: 0.0238 - kl_loss: 1.6046e-06\n",
      "Epoch 14/50\n",
      "20/20 [==============================] - 8s 381ms/step - loss: 0.0189 - reconstruction_loss: 0.0247 - kl_loss: 2.7632e-06\n",
      "Epoch 15/50\n",
      "20/20 [==============================] - 7s 372ms/step - loss: 0.0212 - reconstruction_loss: 0.0241 - kl_loss: 1.5321e-06\n",
      "Epoch 16/50\n",
      "20/20 [==============================] - 8s 376ms/step - loss: 0.0259 - reconstruction_loss: 0.0233 - kl_loss: 1.3855e-06\n",
      "Epoch 17/50\n",
      "20/20 [==============================] - 7s 367ms/step - loss: 0.0366 - reconstruction_loss: 0.0233 - kl_loss: 9.8936e-07\n",
      "Epoch 18/50\n",
      "20/20 [==============================] - 8s 376ms/step - loss: 0.0181 - reconstruction_loss: 0.0234 - kl_loss: 9.8900e-07\n",
      "Epoch 19/50\n",
      "20/20 [==============================] - 8s 376ms/step - loss: 0.0220 - reconstruction_loss: 0.0236 - kl_loss: 8.4841e-07\n",
      "Epoch 20/50\n",
      "20/20 [==============================] - 7s 373ms/step - loss: 0.0188 - reconstruction_loss: 0.0232 - kl_loss: 1.0829e-06\n",
      "Epoch 21/50\n",
      "20/20 [==============================] - 8s 373ms/step - loss: 0.0393 - reconstruction_loss: 0.0236 - kl_loss: 9.7598e-07\n",
      "Epoch 22/50\n",
      "20/20 [==============================] - 8s 377ms/step - loss: 0.0223 - reconstruction_loss: 0.0238 - kl_loss: 8.1015e-07\n",
      "Epoch 23/50\n",
      "20/20 [==============================] - 8s 373ms/step - loss: 0.0225 - reconstruction_loss: 0.0249 - kl_loss: 1.1937e-06\n",
      "Epoch 24/50\n",
      "20/20 [==============================] - 7s 373ms/step - loss: 0.0203 - reconstruction_loss: 0.0235 - kl_loss: 1.1841e-06\n",
      "Epoch 25/50\n",
      "20/20 [==============================] - 8s 378ms/step - loss: 0.0260 - reconstruction_loss: 0.0268 - kl_loss: 4.1407e-06\n",
      "Epoch 26/50\n",
      "20/20 [==============================] - 7s 373ms/step - loss: 0.0256 - reconstruction_loss: 0.0249 - kl_loss: 1.9626e-06\n",
      "Epoch 27/50\n",
      "20/20 [==============================] - 8s 387ms/step - loss: 0.0316 - reconstruction_loss: 0.0244 - kl_loss: 1.3234e-06\n",
      "Epoch 28/50\n",
      "20/20 [==============================] - 7s 371ms/step - loss: 0.0259 - reconstruction_loss: 0.0256 - kl_loss: 1.0953e-06\n",
      "Epoch 29/50\n",
      "20/20 [==============================] - 8s 379ms/step - loss: 0.0172 - reconstruction_loss: 0.0234 - kl_loss: 1.7232e-06\n",
      "Epoch 30/50\n",
      "20/20 [==============================] - 8s 384ms/step - loss: 0.0257 - reconstruction_loss: 0.0243 - kl_loss: 1.5430e-06\n",
      "Epoch 31/50\n",
      "20/20 [==============================] - 8s 378ms/step - loss: 0.0157 - reconstruction_loss: 0.0231 - kl_loss: 1.5450e-06\n",
      "Epoch 32/50\n",
      "20/20 [==============================] - 8s 387ms/step - loss: 0.0194 - reconstruction_loss: 0.0254 - kl_loss: 1.8347e-06\n",
      "Epoch 33/50\n",
      "20/20 [==============================] - 8s 379ms/step - loss: 0.0184 - reconstruction_loss: 0.0229 - kl_loss: 1.5128e-06\n",
      "Epoch 34/50\n",
      "20/20 [==============================] - 8s 375ms/step - loss: 0.0142 - reconstruction_loss: 0.0233 - kl_loss: 1.7607e-06\n",
      "Epoch 35/50\n",
      "20/20 [==============================] - 8s 386ms/step - loss: 0.0189 - reconstruction_loss: 0.0236 - kl_loss: 1.9394e-06\n",
      "Epoch 36/50\n",
      "20/20 [==============================] - 8s 381ms/step - loss: 0.0170 - reconstruction_loss: 0.0244 - kl_loss: 1.0352e-06\n",
      "Epoch 37/50\n",
      "20/20 [==============================] - 8s 385ms/step - loss: 0.0366 - reconstruction_loss: 0.0265 - kl_loss: 1.7682e-06\n",
      "Epoch 38/50\n",
      "20/20 [==============================] - 8s 381ms/step - loss: 0.0214 - reconstruction_loss: 0.0235 - kl_loss: 1.5830e-06\n",
      "Epoch 39/50\n",
      "20/20 [==============================] - 8s 383ms/step - loss: 0.0169 - reconstruction_loss: 0.0244 - kl_loss: 9.8067e-07\n",
      "Epoch 40/50\n",
      "20/20 [==============================] - 8s 382ms/step - loss: 0.0435 - reconstruction_loss: 0.0276 - kl_loss: 3.0306e-06\n",
      "Epoch 41/50\n",
      "20/20 [==============================] - 8s 378ms/step - loss: 0.0275 - reconstruction_loss: 0.0248 - kl_loss: 4.2676e-06\n",
      "Epoch 42/50\n",
      "20/20 [==============================] - 8s 390ms/step - loss: 0.0183 - reconstruction_loss: 0.0246 - kl_loss: 2.3443e-06\n",
      "Epoch 43/50\n",
      "20/20 [==============================] - 7s 373ms/step - loss: 0.0196 - reconstruction_loss: 0.0242 - kl_loss: 9.9775e-07\n",
      "Epoch 44/50\n",
      "20/20 [==============================] - 7s 374ms/step - loss: 0.0220 - reconstruction_loss: 0.0240 - kl_loss: 1.0048e-06\n",
      "Epoch 45/50\n",
      "20/20 [==============================] - 7s 358ms/step - loss: 0.0280 - reconstruction_loss: 0.0251 - kl_loss: 8.9043e-07\n",
      "Epoch 46/50\n",
      "20/20 [==============================] - 4s 224ms/step - loss: 0.0130 - reconstruction_loss: 0.0233 - kl_loss: 8.3285e-07\n",
      "Epoch 47/50\n",
      "20/20 [==============================] - 4s 211ms/step - loss: 0.0196 - reconstruction_loss: 0.0234 - kl_loss: 1.6259e-06\n",
      "Epoch 48/50\n",
      "20/20 [==============================] - 4s 214ms/step - loss: 0.0213 - reconstruction_loss: 0.0240 - kl_loss: 2.7847e-06\n",
      "Epoch 49/50\n",
      "20/20 [==============================] - 4s 211ms/step - loss: 0.0293 - reconstruction_loss: 0.0271 - kl_loss: 1.3185e-06\n",
      "Epoch 50/50\n",
      "20/20 [==============================] - 4s 211ms/step - loss: 0.0305 - reconstruction_loss: 0.0251 - kl_loss: 2.7091e-06\n"
     ]
    },
    {
     "data": {
      "text/plain": [
       "<keras.callbacks.History at 0x265080fb430>"
      ]
     },
     "execution_count": 46,
     "metadata": {},
     "output_type": "execute_result"
    }
   ],
   "source": [
    "vae = VAE(encoder,decoder)\n",
    "vae.compile(optimizer=keras.optimizers.Adam())\n",
    "vae.fit(Y_train, epochs=50, batch_size=32)"
   ]
  },
  {
   "cell_type": "code",
   "execution_count": 47,
   "id": "17276c9e",
   "metadata": {},
   "outputs": [
    {
     "data": {
      "text/plain": [
       "(157, 600)"
      ]
     },
     "execution_count": 47,
     "metadata": {},
     "output_type": "execute_result"
    }
   ],
   "source": [
    "z, _, _ = vae.encoder.predict(Y_test)\n",
    "pred=vae.decoder.predict(z)\n",
    "# # pred=np.array(pred)\n",
    "#pred=vae.decoder.predict(vae.encoder.predict(X_test)[2])\n",
    "pred.shape"
   ]
  },
  {
   "cell_type": "code",
   "execution_count": 48,
   "id": "21a35b57",
   "metadata": {},
   "outputs": [
    {
     "name": "stdout",
     "output_type": "stream",
     "text": [
      "PRD: 2.806372501634186\n",
      "SNR: 32.126782965713815\n"
     ]
    }
   ],
   "source": [
    "p1=0\n",
    "s1=0;\n",
    "for x in range(y):\n",
    "    rec1=pred[x]\n",
    "    xtrn1=Y_test[x]\n",
    "    actual= xtrn1\n",
    "    predicted= rec1\n",
    "    sme= np.sum(np.square(actual - predicted))\n",
    "    org = np.sum(np.square(actual))\n",
    "    prd1= np.sqrt(sme/org)*100\n",
    "    p1=p1+prd1;\n",
    "    signal_power = np.sum(actual ** 2) / len(actual)\n",
    "    noise_signal = actual-predicted\n",
    "    noise_power = np.sum(noise_signal ** 2) / len(noise_signal)\n",
    "    snr_db = 10 * np.log10(signal_power / noise_power)\n",
    "    s1=s1+snr_db;\n",
    "\n",
    "prd=p1/y;\n",
    "snr_d=s1/y;\n",
    "print(\"PRD:\",prd) \n",
    "print(\"SNR:\",snr_d)"
   ]
  },
  {
   "cell_type": "code",
   "execution_count": null,
   "id": "60e6b929",
   "metadata": {},
   "outputs": [],
   "source": []
  },
  {
   "cell_type": "code",
   "execution_count": null,
   "id": "1c9550ce",
   "metadata": {},
   "outputs": [],
   "source": []
  },
  {
   "cell_type": "code",
   "execution_count": null,
   "id": "9e05c438",
   "metadata": {},
   "outputs": [],
   "source": []
  },
  {
   "cell_type": "code",
   "execution_count": null,
   "id": "2177e296",
   "metadata": {},
   "outputs": [],
   "source": []
  },
  {
   "cell_type": "code",
   "execution_count": null,
   "id": "4b3bce85",
   "metadata": {},
   "outputs": [],
   "source": []
  },
  {
   "cell_type": "code",
   "execution_count": null,
   "id": "c9d365dc",
   "metadata": {},
   "outputs": [],
   "source": []
  },
  {
   "cell_type": "code",
   "execution_count": null,
   "id": "97cfb400",
   "metadata": {},
   "outputs": [],
   "source": []
  },
  {
   "cell_type": "code",
   "execution_count": null,
   "id": "e2e76611",
   "metadata": {},
   "outputs": [],
   "source": []
  },
  {
   "cell_type": "code",
   "execution_count": null,
   "id": "9b1ecc86",
   "metadata": {},
   "outputs": [],
   "source": []
  },
  {
   "cell_type": "code",
   "execution_count": null,
   "id": "7ff43512",
   "metadata": {},
   "outputs": [],
   "source": []
  },
  {
   "cell_type": "code",
   "execution_count": null,
   "id": "bfd14df9",
   "metadata": {},
   "outputs": [],
   "source": []
  },
  {
   "cell_type": "code",
   "execution_count": null,
   "id": "b05ba077",
   "metadata": {},
   "outputs": [],
   "source": []
  },
  {
   "cell_type": "code",
   "execution_count": null,
   "id": "2c89065e",
   "metadata": {},
   "outputs": [],
   "source": []
  },
  {
   "cell_type": "code",
   "execution_count": null,
   "id": "f9d2405a",
   "metadata": {},
   "outputs": [],
   "source": []
  },
  {
   "cell_type": "code",
   "execution_count": null,
   "id": "28bf9a89",
   "metadata": {},
   "outputs": [],
   "source": []
  },
  {
   "cell_type": "code",
   "execution_count": null,
   "id": "d378466c",
   "metadata": {},
   "outputs": [],
   "source": []
  }
 ],
 "metadata": {
  "kernelspec": {
   "display_name": "Python 3 (ipykernel)",
   "language": "python",
   "name": "python3"
  },
  "language_info": {
   "codemirror_mode": {
    "name": "ipython",
    "version": 3
   },
   "file_extension": ".py",
   "mimetype": "text/x-python",
   "name": "python",
   "nbconvert_exporter": "python",
   "pygments_lexer": "ipython3",
   "version": "3.9.13"
  }
 },
 "nbformat": 4,
 "nbformat_minor": 5
}
